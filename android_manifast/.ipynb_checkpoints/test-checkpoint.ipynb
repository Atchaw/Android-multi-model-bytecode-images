{
 "cells": [
  {
   "cell_type": "markdown",
   "metadata": {},
   "source": [
    "# TEST & VISUALISATION PART\n",
    "## 1- Test"
   ]
  },
  {
   "cell_type": "code",
   "execution_count": null,
   "metadata": {},
   "outputs": [],
   "source": [
    "import time\n",
    "from model import Net\n",
    "from dataset import getDataTest\n",
    "from calculateTime import epoch_time\n",
    "\n",
    "# load the model\n",
    "model = Net()\n",
    "model.load_state_dict(torch.load('./output/model.pt'))\n",
    "\n",
    "# check if CUDA is available\n",
    "train_on_gpu = torch.cuda.is_available()\n",
    "# move tensors to GPU if CUDA is available\n",
    "if train_on_gpu:\n",
    "    model = model.cuda()\n",
    "\n",
    "# how many samples per batch to load\n",
    "batch_size = 64\n",
    "#data directory\n",
    "data_dir = './../../data_manifast'\n",
    "# get the test data\n",
    "test_loader = getDataTest(data_dir,batch_size)\n",
    "\n",
    "criterion =  nn.NLLLoss()\n",
    "if train_on_gpu:\n",
    "    criterion = criterion.cuda()\n",
    "\n",
    "test_start_time = time.monotonic() # save the start time\n",
    "test_loss, test_acc = evaluate(model, test_loader, criterion)\n",
    "test_end_time = time.monotonic() # save the end time\n",
    "\n",
    "# claculate the total time of the test\n",
    "test_mins, test_secs = epoch_time(test_start_time, test_end_time)"
   ]
  },
  {
   "cell_type": "markdown",
   "metadata": {},
   "source": [
    "## save the result to csv"
   ]
  },
  {
   "cell_type": "code",
   "execution_count": null,
   "metadata": {},
   "outputs": [],
   "source": [
    "from csvFile import csvTest\n",
    "\n",
    "# save the result of the test to a csv file\n",
    "row = [len(test_loader.dataset), test_mins, test_secs, test_loss, test_acc]\n",
    "csvTest(row)\n",
    "\n",
    "# print the resultof the test\n",
    "print(f'Test set size: {len(test_loader.dataset)} | Test Time: {test_mins}m {test_secs}s')\n",
    "print(f'Test Loss: {test_loss:.3f} | Test Acc: {test_acc*100:.2f}%')"
   ]
  },
  {
   "cell_type": "markdown",
   "metadata": {},
   "source": [
    "## 2- Visualisation"
   ]
  },
  {
   "cell_type": "code",
   "execution_count": null,
   "metadata": {},
   "outputs": [],
   "source": [
    "import pandas as pd\n",
    "import matplotlib.pyplot as plt\n",
    "\n",
    "data = pd.read_csv('./output/training.csv')\n",
    "\n",
    "data =data[:2].astype(int)\n",
    "data =data[3:].astype(float) \n",
    "\n",
    "%matplotlib inline\n",
    "%config InlineBackend.figure_format = 'retina'\n",
    "\n",
    "plt.plot(data['Epoch'],data['Train Loss'], label='Training loss')\n",
    "plt.plot(data['Epoch'],data['Val Loss'], label='Validation loss')\n",
    "plt.legend(frameon=False)"
   ]
  },
  {
   "cell_type": "code",
   "execution_count": null,
   "metadata": {},
   "outputs": [],
   "source": [
    "%matplotlib inline\n",
    "%config InlineBackend.figure_format = 'retina'\n",
    "\n",
    "plt.plot(data['Epoch'],data['Train Acc'], label='Training Acc')\n",
    "plt.plot(data['Epoch'],data['Val Acc'], label='Validation Acc')\n",
    "plt.legend(frameon=False)"
   ]
  }
 ],
 "metadata": {
  "kernelspec": {
   "display_name": "Python 3",
   "language": "python",
   "name": "python3"
  },
  "language_info": {
   "codemirror_mode": {
    "name": "ipython",
    "version": 3
   },
   "file_extension": ".py",
   "mimetype": "text/x-python",
   "name": "python",
   "nbconvert_exporter": "python",
   "pygments_lexer": "ipython3",
   "version": "3.8.5"
  }
 },
 "nbformat": 4,
 "nbformat_minor": 2
}
